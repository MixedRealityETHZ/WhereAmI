{
 "cells": [
  {
   "cell_type": "code",
   "execution_count": 1,
   "metadata": {},
   "outputs": [
    {
     "name": "stdout",
     "output_type": "stream",
     "text": [
      "Jupyter environment detected. Enabling Open3D WebVisualizer.\n",
      "[Open3D INFO] WebRTC GUI backend enabled.\n",
      "[Open3D INFO] WebRTCWindowSystem: HTTP handshake server disabled.\n"
     ]
    }
   ],
   "source": [
    "import json\n",
    "from scantools.capture import Capture"
   ]
  },
  {
   "cell_type": "code",
   "execution_count": 2,
   "metadata": {},
   "outputs": [
    {
     "name": "stderr",
     "output_type": "stream",
     "text": [
      "[2024/11/13 17:38:18 scantools INFO] Loading Capture from /lamar/lamar/data.\n"
     ]
    }
   ],
   "source": [
    "capture = Capture.load('data/')"
   ]
  },
  {
   "cell_type": "code",
   "execution_count": 9,
   "metadata": {},
   "outputs": [],
   "source": [
    "trajectories = []\n",
    "\n",
    "point_clouds = \"\"\n",
    "\n",
    "for name, session in capture.sessions.items():\n",
    "    pose = session.proc.alignment_global.get_abs_pose('pose_graph_optimized')\n",
    "    trajectory = [\n",
    "        {\n",
    "            \"timestamp\": t,\n",
    "            \"sensor_records\": [\n",
    "                {\n",
    "                    \"sensor\": name,\n",
    "                    \"position\": list(pose.r.apply(sensor.t) + pose.t),\n",
    "                    \"rotation\": list((pose.r * sensor.r).as_quat())\n",
    "                } for name, sensor in record.items()\n",
    "            ]\n",
    "        } for t, record in session.trajectories.items()\n",
    "    ]\n",
    "        \n",
    "    trajectories.append({\n",
    "        \"name\": name,\n",
    "        \"trajectory\": trajectory\n",
    "    })\n",
    "    \n",
    "    if session.pointclouds:\n",
    "        pose_str = \" \".join([str(x) for x in pose.t])\n",
    "        rot_str = \" \".join([str(x) for x in pose.qvec])\n",
    "        point_clouds += f\"data/{name}/raw_data/pointcloud.ply {pose_str} {rot_str}\\n\"\n",
    "    \n",
    "\n",
    "with open(\"trajectories.json\", \"w\") as f:\n",
    "    json.dump({\"trajectories\": trajectories}, f)\n",
    "    \n",
    "with open(\"point_clouds.txt\", \"w\") as f:\n",
    "    f.write(point_clouds)\n",
    "    "
   ]
  }
 ],
 "metadata": {
  "kernelspec": {
   "display_name": "Python 3",
   "language": "python",
   "name": "python3"
  },
  "language_info": {
   "codemirror_mode": {
    "name": "ipython",
    "version": 3
   },
   "file_extension": ".py",
   "mimetype": "text/x-python",
   "name": "python",
   "nbconvert_exporter": "python",
   "pygments_lexer": "ipython3",
   "version": "3.10.12"
  }
 },
 "nbformat": 4,
 "nbformat_minor": 2
}
